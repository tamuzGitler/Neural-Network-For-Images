{
  "cells": [
    {
      "cell_type": "code",
      "execution_count": null,
      "metadata": {
        "id": "weg704QrZP3H"
      },
      "outputs": [],
      "source": [
        "\n",
        "# For tips on running notebooks in Google Colab, see\n",
        "# https://pytorch.org/tutorials/beginner/colab\n",
        "%matplotlib inline"
      ]
    },
    {
      "cell_type": "code",
      "source": [
        "!pip install transformers\n",
        "!pip install diffusers"
      ],
      "metadata": {
        "id": "di_mP5SR3ErA",
        "outputId": "37302d7a-538a-4b19-e4c2-ede2ce40a214",
        "colab": {
          "base_uri": "https://localhost:8080/"
        }
      },
      "execution_count": null,
      "outputs": [
        {
          "output_type": "stream",
          "name": "stdout",
          "text": [
            "Requirement already satisfied: transformers in /usr/local/lib/python3.10/dist-packages (4.30.2)\n",
            "Requirement already satisfied: filelock in /usr/local/lib/python3.10/dist-packages (from transformers) (3.12.2)\n",
            "Requirement already satisfied: huggingface-hub<1.0,>=0.14.1 in /usr/local/lib/python3.10/dist-packages (from transformers) (0.15.1)\n",
            "Requirement already satisfied: numpy>=1.17 in /usr/local/lib/python3.10/dist-packages (from transformers) (1.22.4)\n",
            "Requirement already satisfied: packaging>=20.0 in /usr/local/lib/python3.10/dist-packages (from transformers) (23.1)\n",
            "Requirement already satisfied: pyyaml>=5.1 in /usr/local/lib/python3.10/dist-packages (from transformers) (6.0)\n",
            "Requirement already satisfied: regex!=2019.12.17 in /usr/local/lib/python3.10/dist-packages (from transformers) (2022.10.31)\n",
            "Requirement already satisfied: requests in /usr/local/lib/python3.10/dist-packages (from transformers) (2.27.1)\n",
            "Requirement already satisfied: tokenizers!=0.11.3,<0.14,>=0.11.1 in /usr/local/lib/python3.10/dist-packages (from transformers) (0.13.3)\n",
            "Requirement already satisfied: safetensors>=0.3.1 in /usr/local/lib/python3.10/dist-packages (from transformers) (0.3.1)\n",
            "Requirement already satisfied: tqdm>=4.27 in /usr/local/lib/python3.10/dist-packages (from transformers) (4.65.0)\n",
            "Requirement already satisfied: fsspec in /usr/local/lib/python3.10/dist-packages (from huggingface-hub<1.0,>=0.14.1->transformers) (2023.6.0)\n",
            "Requirement already satisfied: typing-extensions>=3.7.4.3 in /usr/local/lib/python3.10/dist-packages (from huggingface-hub<1.0,>=0.14.1->transformers) (4.6.3)\n",
            "Requirement already satisfied: urllib3<1.27,>=1.21.1 in /usr/local/lib/python3.10/dist-packages (from requests->transformers) (1.26.16)\n",
            "Requirement already satisfied: certifi>=2017.4.17 in /usr/local/lib/python3.10/dist-packages (from requests->transformers) (2023.5.7)\n",
            "Requirement already satisfied: charset-normalizer~=2.0.0 in /usr/local/lib/python3.10/dist-packages (from requests->transformers) (2.0.12)\n",
            "Requirement already satisfied: idna<4,>=2.5 in /usr/local/lib/python3.10/dist-packages (from requests->transformers) (3.4)\n",
            "Requirement already satisfied: diffusers in /usr/local/lib/python3.10/dist-packages (0.17.1)\n",
            "Requirement already satisfied: Pillow in /usr/local/lib/python3.10/dist-packages (from diffusers) (8.4.0)\n",
            "Requirement already satisfied: filelock in /usr/local/lib/python3.10/dist-packages (from diffusers) (3.12.2)\n",
            "Requirement already satisfied: huggingface-hub>=0.13.2 in /usr/local/lib/python3.10/dist-packages (from diffusers) (0.15.1)\n",
            "Requirement already satisfied: importlib-metadata in /usr/local/lib/python3.10/dist-packages (from diffusers) (6.7.0)\n",
            "Requirement already satisfied: numpy in /usr/local/lib/python3.10/dist-packages (from diffusers) (1.22.4)\n",
            "Requirement already satisfied: regex!=2019.12.17 in /usr/local/lib/python3.10/dist-packages (from diffusers) (2022.10.31)\n",
            "Requirement already satisfied: requests in /usr/local/lib/python3.10/dist-packages (from diffusers) (2.27.1)\n",
            "Requirement already satisfied: fsspec in /usr/local/lib/python3.10/dist-packages (from huggingface-hub>=0.13.2->diffusers) (2023.6.0)\n",
            "Requirement already satisfied: tqdm>=4.42.1 in /usr/local/lib/python3.10/dist-packages (from huggingface-hub>=0.13.2->diffusers) (4.65.0)\n",
            "Requirement already satisfied: pyyaml>=5.1 in /usr/local/lib/python3.10/dist-packages (from huggingface-hub>=0.13.2->diffusers) (6.0)\n",
            "Requirement already satisfied: typing-extensions>=3.7.4.3 in /usr/local/lib/python3.10/dist-packages (from huggingface-hub>=0.13.2->diffusers) (4.6.3)\n",
            "Requirement already satisfied: packaging>=20.9 in /usr/local/lib/python3.10/dist-packages (from huggingface-hub>=0.13.2->diffusers) (23.1)\n",
            "Requirement already satisfied: zipp>=0.5 in /usr/local/lib/python3.10/dist-packages (from importlib-metadata->diffusers) (3.15.0)\n",
            "Requirement already satisfied: urllib3<1.27,>=1.21.1 in /usr/local/lib/python3.10/dist-packages (from requests->diffusers) (1.26.16)\n",
            "Requirement already satisfied: certifi>=2017.4.17 in /usr/local/lib/python3.10/dist-packages (from requests->diffusers) (2023.5.7)\n",
            "Requirement already satisfied: charset-normalizer~=2.0.0 in /usr/local/lib/python3.10/dist-packages (from requests->diffusers) (2.0.12)\n",
            "Requirement already satisfied: idna<4,>=2.5 in /usr/local/lib/python3.10/dist-packages (from requests->diffusers) (3.4)\n"
          ]
        }
      ]
    },
    {
      "cell_type": "markdown",
      "metadata": {
        "id": "Ghb7__dUZP3I"
      },
      "source": [
        "\n",
        "# Neural Transfer Using PyTorch\n",
        "\n",
        "\n",
        "**Author**: [Alexis Jacq](https://alexis-jacq.github.io)\n",
        "\n",
        "**Edited by**: [Winston Herring](https://github.com/winston6)\n",
        "\n",
        "## Introduction\n",
        "\n",
        "This tutorial explains how to implement the [Neural-Style algorithm](https://arxiv.org/abs/1508.06576)_\n",
        "developed by Leon A. Gatys, Alexander S. Ecker and Matthias Bethge.\n",
        "Neural-Style, or Neural-Transfer, allows you to take an image and\n",
        "reproduce it with a new artistic style. The algorithm takes three images,\n",
        "an input image, a content-image, and a style-image, and changes the input\n",
        "to resemble the content of the content-image and the artistic style of the style-image.\n",
        "\n",
        "\n",
        ".. figure:: /_static/img/neural-style/neuralstyle.png\n",
        "   :alt: content1\n"
      ]
    },
    {
      "cell_type": "markdown",
      "metadata": {
        "id": "tGmjIpiSZP3K"
      },
      "source": [
        "## Underlying Principle\n",
        "\n",
        "The principle is simple: we define two distances, one for the content\n",
        "($D_C$) and one for the style ($D_S$). $D_C$ measures how different the content\n",
        "is between two images while $D_S$ measures how different the style is\n",
        "between two images. Then, we take a third image, the input, and\n",
        "transform it to minimize both its content-distance with the\n",
        "content-image and its style-distance with the style-image. Now we can\n",
        "import the necessary packages and begin the neural transfer.\n",
        "\n",
        "## Importing Packages and Selecting a Device\n",
        "Below is a  list of the packages needed to implement the neural transfer.\n",
        "\n",
        "-  ``torch``, ``torch.nn``, ``numpy`` (indispensables packages for\n",
        "   neural networks with PyTorch)\n",
        "-  ``torch.optim`` (efficient gradient descents)\n",
        "-  ``PIL``, ``PIL.Image``, ``matplotlib.pyplot`` (load and display\n",
        "   images)\n",
        "-  ``torchvision.transforms`` (transform PIL images into tensors)\n",
        "-  ``torchvision.models`` (train or load pretrained models)\n",
        "-  ``copy`` (to deep copy the models; system package)\n",
        "\n"
      ]
    },
    {
      "cell_type": "code",
      "execution_count": null,
      "metadata": {
        "id": "qgNqAOktZP3K"
      },
      "outputs": [],
      "source": [
        "import torch\n",
        "import torch.nn as nn\n",
        "import torch.nn.functional as F\n",
        "import torch.optim as optim\n",
        "\n",
        "from PIL import Image\n",
        "import matplotlib.pyplot as plt\n",
        "\n",
        "import torchvision.transforms as transforms\n",
        "import torchvision.models as models\n",
        "import copy\n",
        "import pdb\n",
        "import torchvision.utils as vutils\n"
      ]
    },
    {
      "cell_type": "markdown",
      "metadata": {
        "id": "voekjdvzZP3L"
      },
      "source": [
        "Next, we need to choose which device to run the network on and import the\n",
        "content and style images. Running the neural transfer algorithm on large\n",
        "images takes longer and will go much faster when running on a GPU. We can\n",
        "use ``torch.cuda.is_available()`` to detect if there is a GPU available.\n",
        "Next, we set the ``torch.device`` for use throughout the tutorial. Also the ``.to(device)``\n",
        "method is used to move tensors or modules to a desired device.\n",
        "\n"
      ]
    },
    {
      "cell_type": "code",
      "execution_count": null,
      "metadata": {
        "id": "KM8KZR3TZP3L"
      },
      "outputs": [],
      "source": [
        "device = torch.device(\"cuda\" if torch.cuda.is_available() else \"cpu\")\n",
        "torch.set_default_device(device)"
      ]
    },
    {
      "cell_type": "markdown",
      "metadata": {
        "id": "JbQNxZPpZP3L"
      },
      "source": [
        "## Loading the Images\n",
        "\n",
        "Now we will import the style and content images. The original PIL images have values between 0 and 255, but when\n",
        "transformed into torch tensors, their values are converted to be between\n",
        "0 and 1. The images also need to be resized to have the same dimensions.\n",
        "An important detail to note is that neural networks from the\n",
        "torch library are trained with tensor values ranging from 0 to 1. If you\n",
        "try to feed the networks with 0 to 255 tensor images, then the activated\n",
        "feature maps will be unable to sense the intended content and style.\n",
        "However, pretrained networks from the Caffe library are trained with 0\n",
        "to 255 tensor images.\n",
        "\n",
        "\n",
        ".. Note::\n",
        "    Here are links to download the images required to run the tutorial:\n",
        "    [picasso.jpg](https://pytorch.org/tutorials/_static/img/neural-style/picasso.jpg)_ and\n",
        "    [dancing.jpg](https://pytorch.org/tutorials/_static/img/neural-style/dancing.jpg)_.\n",
        "    Download these two images and add them to a directory\n",
        "    with name ``images`` in your current working directory.\n",
        "\n"
      ]
    },
    {
      "cell_type": "code",
      "execution_count": null,
      "metadata": {
        "id": "0pX96J9aZP3M"
      },
      "outputs": [],
      "source": [
        "# desired size of the output image\n",
        "# imsize = 512 if torch.cuda.is_available() else 128  # use small size if no GPU\n",
        "imsize = 512\n",
        "loader = transforms.Compose([\n",
        "    transforms.Resize(imsize),  # scale imported image\n",
        "    transforms.ToTensor()])  # transform it into a torch tensor\n",
        "\n",
        "\n",
        "def image_loader(image_name):\n",
        "    image = Image.open(image_name)\n",
        "    # fake batch dimension required to fit network's input dimensions\n",
        "    image = loader(image).unsqueeze(0)\n",
        "    return image.to(device, torch.float)\n",
        "\n",
        "\n",
        "style_img = image_loader(\"picasso.jpg\")\n",
        "content_img = image_loader(\"dancing.jpg\")\n",
        "\n",
        "assert style_img.size() == content_img.size(), \\\n",
        "    \"we need to import style and content images of the same size\""
      ]
    },
    {
      "cell_type": "markdown",
      "metadata": {
        "id": "kNx5zStPZP3M"
      },
      "source": [
        "Now, let's create a function that displays an image by reconverting a\n",
        "copy of it to PIL format and displaying the copy using\n",
        "``plt.imshow``. We will try displaying the content and style images\n",
        "to ensure they were imported correctly.\n",
        "\n"
      ]
    },
    {
      "cell_type": "code",
      "execution_count": null,
      "metadata": {
        "id": "eWHixH-2ZP3M"
      },
      "outputs": [],
      "source": [
        "unloader = transforms.ToPILImage()  # reconvert into PIL image\n",
        "\n",
        "plt.ion()\n",
        "\n",
        "def imshow(tensor, title=None):\n",
        "    image = tensor.cpu().clone()  # we clone the tensor to not do changes on it\n",
        "    image = image.squeeze(0)      # remove the fake batch dimension\n",
        "    image = unloader(image)\n",
        "    plt.imshow(image)\n",
        "    if title is not None:\n",
        "        plt.title(title)\n",
        "    plt.pause(0.001) # pause a bit so that plots are updated\n",
        "\n",
        "\n",
        "plt.figure()\n",
        "imshow(style_img, title='Style Image')\n",
        "\n",
        "plt.figure()\n",
        "imshow(content_img, title='Content Image')"
      ]
    },
    {
      "cell_type": "markdown",
      "metadata": {
        "id": "DqX_VTiIZP3N"
      },
      "source": [
        "## Loss Functions\n",
        "Content Loss\n",
        "~~~~~~~~~~~~\n",
        "\n",
        "The content loss is a function that represents a weighted version of the\n",
        "content distance for an individual layer. The function takes the feature\n",
        "maps $F_{XL}$ of a layer $L$ in a network processing input $X$ and returns the\n",
        "weighted content distance $w_{CL}.D_C^L(X,C)$ between the image $X$ and the\n",
        "content image $C$. The feature maps of the content image($F_{CL}$) must be\n",
        "known by the function in order to calculate the content distance. We\n",
        "implement this function as a torch module with a constructor that takes\n",
        "$F_{CL}$ as an input. The distance $\\|F_{XL} - F_{CL}\\|^2$ is the mean square error\n",
        "between the two sets of feature maps, and can be computed using ``nn.MSELoss``.\n",
        "\n",
        "We will add this content loss module directly after the convolution\n",
        "layer(s) that are being used to compute the content distance. This way\n",
        "each time the network is fed an input image the content losses will be\n",
        "computed at the desired layers and because of auto grad, all the\n",
        "gradients will be computed. Now, in order to make the content loss layer\n",
        "transparent we must define a ``forward`` method that computes the content\n",
        "loss and then returns the layer’s input. The computed loss is saved as a\n",
        "parameter of the module.\n",
        "\n",
        "\n"
      ]
    },
    {
      "cell_type": "code",
      "execution_count": null,
      "metadata": {
        "id": "P7PYZwDxZP3N"
      },
      "outputs": [],
      "source": [
        "class ContentLoss(nn.Module):\n",
        "\n",
        "    def __init__(self, target,):\n",
        "        super(ContentLoss, self).__init__()\n",
        "        # we 'detach' the target content from the tree used\n",
        "        # to dynamically compute the gradient: this is a stated value,\n",
        "        # not a variable. Otherwise the forward method of the criterion\n",
        "        # will throw an error.\n",
        "        self.target = target.detach()\n",
        "\n",
        "    def forward(self, input):\n",
        "        self.loss = F.mse_loss(input, self.target)\n",
        "        return input"
      ]
    },
    {
      "cell_type": "markdown",
      "metadata": {
        "id": "wXWHiAyCZP3O"
      },
      "source": [
        ".. Note::\n",
        "   **Important detail**: although this module is named ``ContentLoss``, it\n",
        "   is not a true PyTorch Loss function. If you want to define your content\n",
        "   loss as a PyTorch Loss function, you have to create a PyTorch autograd function\n",
        "   to recompute/implement the gradient manually in the ``backward``\n",
        "   method.\n",
        "\n"
      ]
    },
    {
      "cell_type": "markdown",
      "metadata": {
        "id": "_eFj-LoHZP3O"
      },
      "source": [
        "### Style Loss\n",
        "\n",
        "The style loss module is implemented similarly to the content loss\n",
        "module. It will act as a transparent layer in a\n",
        "network that computes the style loss of that layer. In order to\n",
        "calculate the style loss, we need to compute the gram matrix $G_{XL}$. A gram\n",
        "matrix is the result of multiplying a given matrix by its transposed\n",
        "matrix. In this application the given matrix is a reshaped version of\n",
        "the feature maps $F_{XL}$ of a layer $L$. $F_{XL}$ is reshaped to form $\\hat{F}_{XL}$, a $K$\\ x\\ $N$\n",
        "matrix, where $K$ is the number of feature maps at layer $L$ and $N$ is the\n",
        "length of any vectorized feature map $F_{XL}^k$. For example, the first line\n",
        "of $\\hat{F}_{XL}$ corresponds to the first vectorized feature map $F_{XL}^1$.\n",
        "\n",
        "Finally, the gram matrix must be normalized by dividing each element by\n",
        "the total number of elements in the matrix. This normalization is to\n",
        "counteract the fact that $\\hat{F}_{XL}$ matrices with a large $N$ dimension yield\n",
        "larger values in the Gram matrix. These larger values will cause the\n",
        "first layers (before pooling layers) to have a larger impact during the\n",
        "gradient descent. Style features tend to be in the deeper layers of the\n",
        "network so this normalization step is crucial.\n",
        "\n",
        "\n"
      ]
    },
    {
      "cell_type": "code",
      "execution_count": null,
      "metadata": {
        "id": "chZ7k07KZP3O"
      },
      "outputs": [],
      "source": [
        "def gram_matrix(input):\n",
        "    a, b, c, d = input.size()  # a=batch size(=1)\n",
        "    # b=number of feature maps\n",
        "    # (c,d)=dimensions of a f. map (N=c*d)\n",
        "\n",
        "    features = input.view(a * b, c * d)  # resize F_XL into \\hat F_XL\n",
        "\n",
        "    G = torch.mm(features, features.t())  # compute the gram product\n",
        "\n",
        "    # we 'normalize' the values of the gram matrix\n",
        "    # by dividing by the number of element in each feature maps.\n",
        "    return G.div(a * b * c * d)"
      ]
    },
    {
      "cell_type": "markdown",
      "metadata": {
        "id": "mIeF2OL8ZP3O"
      },
      "source": [
        "Now the style loss module looks almost exactly like the content loss\n",
        "module. The style distance is also computed using the mean square\n",
        "error between $G_{XL}$ and $G_{SL}$.\n",
        "\n",
        "\n"
      ]
    },
    {
      "cell_type": "code",
      "execution_count": null,
      "metadata": {
        "id": "JBd2Y-xGZP3O"
      },
      "outputs": [],
      "source": [
        "class StyleLoss(nn.Module):\n",
        "\n",
        "    def __init__(self, target_feature):\n",
        "        super(StyleLoss, self).__init__()\n",
        "        self.target = gram_matrix(target_feature).detach()\n",
        "\n",
        "\n",
        "\n",
        "    def forward(self, input):\n",
        "        G = gram_matrix(input)\n",
        "        self.loss = F.mse_loss(G, self.target)\n",
        "        return input\n",
        "\n",
        "# part 1.3C\n",
        "# class StyleLoss(nn.Module):\n",
        "\n",
        "#     def __init__(self, target_feature):\n",
        "#         super(StyleLoss, self).__init__()\n",
        "#         reshaped_tensor = target_feature.squeeze(0)\n",
        "#         target_means = reshaped_tensor.mean(dim=(1, 2))\n",
        "#         # print(target_means.shape)\n",
        "#         target_vars = reshaped_tensor.var(dim=(1, 2))\n",
        "#         # print(target_vars.shape)\n",
        "#         self.target = torch.cat((target_means,target_vars),dim=0)\n",
        "#         # pdb.set_trace()\n",
        "#         # print(self.target.shape)\n",
        "\n",
        "#     def forward(self, input):\n",
        "#         reshaped_tensor = input.squeeze(0)\n",
        "#         target_means = reshaped_tensor.mean(dim=(1, 2))\n",
        "#         target_vars = reshaped_tensor.var(dim=(1, 2))\n",
        "#         input_means_and_vars = torch.cat((target_means,target_vars),dim=0)\n",
        "#         self.loss = F.mse_loss(input_means_and_vars, self.target)\n",
        "#         return input\n"
      ]
    },
    {
      "cell_type": "markdown",
      "metadata": {
        "id": "NQ4itzC5ZP3O"
      },
      "source": [
        "## Importing the Model\n",
        "\n",
        "Now we need to import a pretrained neural network. We will use a 19\n",
        "layer VGG network like the one used in the paper.\n",
        "\n",
        "PyTorch’s implementation of VGG is a module divided into two child\n",
        "``Sequential`` modules: ``features`` (containing convolution and pooling layers),\n",
        "and ``classifier`` (containing fully connected layers). We will use the\n",
        "``features`` module because we need the output of the individual\n",
        "convolution layers to measure content and style loss. Some layers have\n",
        "different behavior during training than evaluation, so we must set the\n",
        "network to evaluation mode using ``.eval()``.\n",
        "\n",
        "\n"
      ]
    },
    {
      "cell_type": "code",
      "execution_count": null,
      "metadata": {
        "id": "ssHEz8YsZP3P"
      },
      "outputs": [],
      "source": [
        "cnn = models.vgg19(pretrained=True).features.eval()"
      ]
    },
    {
      "cell_type": "markdown",
      "metadata": {
        "id": "NQrlCq_5ZP3P"
      },
      "source": [
        "Additionally, VGG networks are trained on images with each channel\n",
        "normalized by mean=[0.485, 0.456, 0.406] and std=[0.229, 0.224, 0.225].\n",
        "We will use them to normalize the image before sending it into the network.\n",
        "\n",
        "\n"
      ]
    },
    {
      "cell_type": "code",
      "execution_count": null,
      "metadata": {
        "id": "4sZ9MChqZP3P"
      },
      "outputs": [],
      "source": [
        "cnn_normalization_mean = torch.tensor([0.485, 0.456, 0.406])\n",
        "cnn_normalization_std = torch.tensor([0.229, 0.224, 0.225])\n",
        "\n",
        "# create a module to normalize input image so we can easily put it in a\n",
        "# ``nn.Sequential``\n",
        "class Normalization(nn.Module):\n",
        "    def __init__(self, mean, std):\n",
        "        super(Normalization, self).__init__()\n",
        "        # .view the mean and std to make them [C x 1 x 1] so that they can\n",
        "        # directly work with image Tensor of shape [B x C x H x W].\n",
        "        # B is batch size. C is number of channels. H is height and W is width.\n",
        "        self.mean = torch.tensor(mean).view(-1, 1, 1)\n",
        "        self.std = torch.tensor(std).view(-1, 1, 1)\n",
        "\n",
        "    def forward(self, img):\n",
        "        # normalize ``img``\n",
        "        return (img - self.mean) / self.std"
      ]
    },
    {
      "cell_type": "markdown",
      "metadata": {
        "id": "xGgkwSxjZP3P"
      },
      "source": [
        "A ``Sequential`` module contains an ordered list of child modules. For\n",
        "instance, ``vgg19.features`` contains a sequence (``Conv2d``, ``ReLU``, ``MaxPool2d``,\n",
        "``Conv2d``, ``ReLU``…) aligned in the right order of depth. We need to add our\n",
        "content loss and style loss layers immediately after the convolution\n",
        "layer they are detecting. To do this we must create a new ``Sequential``\n",
        "module that has content loss and style loss modules correctly inserted.\n",
        "\n",
        "\n"
      ]
    },
    {
      "cell_type": "code",
      "execution_count": null,
      "metadata": {
        "id": "SwpDTDv3ZP3P"
      },
      "outputs": [],
      "source": [
        "# desired depth layers to compute style/content losses :\n",
        "\n",
        "\n",
        "def get_style_model_and_losses(cnn, normalization_mean, normalization_std,\n",
        "                               style_img, content_img,\n",
        "                               content_layers,\n",
        "                               style_layers):\n",
        "    # normalization module\n",
        "    normalization = Normalization(normalization_mean, normalization_std)\n",
        "\n",
        "    # just in order to have an iterable access to or list of content/style\n",
        "    # losses\n",
        "    content_losses = []\n",
        "    style_losses = []\n",
        "\n",
        "    style_features = []\n",
        "\n",
        "\n",
        "    # assuming that ``cnn`` is a ``nn.Sequential``, so we make a new ``nn.Sequential``\n",
        "    # to put in modules that are supposed to be activated sequentially\n",
        "    model = nn.Sequential(normalization)\n",
        "\n",
        "    i = 0  # increment every time we see a conv\n",
        "    for layer in cnn.children():\n",
        "        if isinstance(layer, nn.Conv2d):\n",
        "            i += 1\n",
        "            name = 'conv_{}'.format(i)\n",
        "        elif isinstance(layer, nn.ReLU):\n",
        "            name = 'relu_{}'.format(i)\n",
        "            # The in-place version doesn't play very nicely with the ``ContentLoss``\n",
        "            # and ``StyleLoss`` we insert below. So we replace with out-of-place\n",
        "            # ones here.\n",
        "            layer = nn.ReLU(inplace=False)\n",
        "        elif isinstance(layer, nn.MaxPool2d):\n",
        "            name = 'pool_{}'.format(i)\n",
        "        elif isinstance(layer, nn.BatchNorm2d):\n",
        "            name = 'bn_{}'.format(i)\n",
        "            print(\"bach\")\n",
        "        else:\n",
        "            raise RuntimeError('Unrecognized layer: {}'.format(layer.__class__.__name__))\n",
        "\n",
        "        model.add_module(name, layer)\n",
        "\n",
        "        if name in content_layers:\n",
        "            # add content loss:\n",
        "            target = model(content_img).detach()\n",
        "            content_loss = ContentLoss(target)\n",
        "            model.add_module(\"content_loss_{}\".format(i), content_loss)\n",
        "            content_losses.append(content_loss)\n",
        "\n",
        "        if name in style_layers:\n",
        "            # add style loss:\n",
        "            target_feature = model(style_img).detach()\n",
        "            style_loss = StyleLoss(target_feature)\n",
        "            model.add_module(\"style_loss_{}\".format(i), style_loss)\n",
        "            style_losses.append(style_loss)\n",
        "\n",
        "    # now we trim off the layers after the last content and style losses\n",
        "    for i in range(len(model) - 1, -1, -1):\n",
        "        if isinstance(model[i], ContentLoss) or isinstance(model[i], StyleLoss):\n",
        "            break\n",
        "\n",
        "    model = model[:(i + 1)]\n",
        "\n",
        "    return model, style_losses, content_losses"
      ]
    },
    {
      "cell_type": "markdown",
      "metadata": {
        "id": "9VO6irACZP3P"
      },
      "source": [
        "Next, we select the input image. You can use a copy of the content image\n",
        "or white noise.\n",
        "\n",
        "\n"
      ]
    },
    {
      "cell_type": "code",
      "execution_count": null,
      "metadata": {
        "id": "TIiAQBWQZP3Q"
      },
      "outputs": [],
      "source": [
        "input_img = content_img.clone()\n",
        "# if you want to use white noise by using the following code:\n",
        "#\n",
        "# ::\n",
        "#\n",
        "input_img = torch.randn(content_img.data.size())\n",
        "\n",
        "# add the original input image to the figure:\n",
        "plt.figure()\n",
        "imshow(input_img, title='Input Image')"
      ]
    },
    {
      "cell_type": "markdown",
      "metadata": {
        "id": "pY2YXCETZP3Q"
      },
      "source": [
        "## Gradient Descent\n",
        "\n",
        "As Leon Gatys, the author of the algorithm, suggested [here](https://discuss.pytorch.org/t/pytorch-tutorial-for-neural-transfert-of-artistic-style/336/20?u=alexis-jacq)_, we will use\n",
        "L-BFGS algorithm to run our gradient descent. Unlike training a network,\n",
        "we want to train the input image in order to minimize the content/style\n",
        "losses. We will create a PyTorch L-BFGS optimizer ``optim.LBFGS`` and pass\n",
        "our image to it as the tensor to optimize.\n",
        "\n",
        "\n"
      ]
    },
    {
      "cell_type": "code",
      "execution_count": null,
      "metadata": {
        "id": "svGp956lZP3Q"
      },
      "outputs": [],
      "source": [
        "def get_input_optimizer(input_img):\n",
        "    # this line to show that input is a parameter that requires a gradient\n",
        "    optimizer = optim.LBFGS([input_img])\n",
        "    return optimizer"
      ]
    },
    {
      "cell_type": "markdown",
      "metadata": {
        "id": "U7oiJOBQZP3Q"
      },
      "source": [
        "Finally, we must define a function that performs the neural transfer. For\n",
        "each iteration of the networks, it is fed an updated input and computes\n",
        "new losses. We will run the ``backward`` methods of each loss module to\n",
        "dynamically compute their gradients. The optimizer requires a “closure”\n",
        "function, which reevaluates the module and returns the loss.\n",
        "\n",
        "We still have one final constraint to address. The network may try to\n",
        "optimize the input with values that exceed the 0 to 1 tensor range for\n",
        "the image. We can address this by correcting the input values to be\n",
        "between 0 to 1 each time the network is run.\n",
        "\n",
        "\n"
      ]
    },
    {
      "cell_type": "code",
      "execution_count": null,
      "metadata": {
        "id": "ICp6ab1QZP3Q"
      },
      "outputs": [],
      "source": [
        "def run_style_transfer(cnn, normalization_mean, normalization_std,\n",
        "                       content_img, style_img, input_img, content_layers,style_layers,num_steps=300,\n",
        "                       style_weight=1000000, content_weight=1):\n",
        "\n",
        "    \"\"\"Run the style transfer.\"\"\"\n",
        "    print('Building the style transfer model..')\n",
        "    model, style_losses, content_losses = get_style_model_and_losses(cnn,\n",
        "        normalization_mean, normalization_std, style_img, content_img, content_layers,\n",
        "                               style_layers)\n",
        "    # We want to optimize the input and not the model parameters so we\n",
        "    # update all the requires_grad fields accordingly\n",
        "    input_img.requires_grad_(True)\n",
        "    # We also put the model in evaluation mode, so that specific layers\n",
        "    # such as dropout or batch normalization layers behave correctly.\n",
        "    model.eval()\n",
        "    model.requires_grad_(False)\n",
        "\n",
        "    optimizer = get_input_optimizer(input_img)\n",
        "\n",
        "    print('Optimizing..')\n",
        "    run = [0]\n",
        "    ans = input_img.clone().detach()\n",
        "\n",
        "    while run[0] <= num_steps:\n",
        "\n",
        "        def closure():\n",
        "\n",
        "            # correct the values of updated input image\n",
        "            with torch.no_grad():\n",
        "                input_img.clamp_(0, 1)\n",
        "\n",
        "            optimizer.zero_grad()\n",
        "\n",
        "            model(input_img)\n",
        "            style_score = 0\n",
        "            content_score = 0\n",
        "\n",
        "            for sl in style_losses:\n",
        "                style_score += sl.loss\n",
        "            for cl in content_losses:\n",
        "                content_score += cl.loss\n",
        "\n",
        "            style_score *= style_weight\n",
        "            content_score *= content_weight\n",
        "\n",
        "            loss = style_score + content_score\n",
        "            loss.backward()\n",
        "\n",
        "            run[0] += 1\n",
        "            if run[0] % 50 == 0:\n",
        "                print(\"run {}:\".format(run))\n",
        "                print('Style Loss : {:4f} Content Loss: {:4f}'.format(\n",
        "                    style_score, content_score))\n",
        "                print()\n",
        "\n",
        "            return style_score + content_score\n",
        "        optimizer.step(closure)\n",
        "\n",
        "        if run[0] % 40 == 0:\n",
        "            ans = torch.cat((ans,input_img),dim=3)\n",
        "            print(run[0])\n",
        "\n",
        "    vutils.save_image(ans, 'images_proccess.png')\n",
        "\n",
        "    # a last correction...\n",
        "    with torch.no_grad():\n",
        "        input_img.clamp_(0, 1)\n",
        "    return input_img"
      ]
    },
    {
      "cell_type": "markdown",
      "metadata": {
        "id": "FHE7TTUqZP3Q"
      },
      "source": [
        "Finally, we can run the algorithm.\n",
        "\n",
        "\n"
      ]
    },
    {
      "cell_type": "code",
      "execution_count": null,
      "metadata": {
        "id": "4xM1E-snZP3R"
      },
      "outputs": [],
      "source": [
        "#@title Part 1A - Feature inversion\n",
        "content_layers_q1A = ['conv_5']\n",
        "style_layers_q1A = []\n",
        "noise = torch.randn(input_img.shape)\n",
        "\n",
        "\n",
        "output = run_style_transfer(cnn, cnn_normalization_mean, cnn_normalization_std,\n",
        "                            content_img, style_img, noise,content_layers_q1A,style_layers_q1A)\n",
        "\n",
        "plt.figure()\n",
        "imshow(output, title='Output Image')\n",
        "# sphinx_gallery_thumbnail_number = 4\n",
        "plt.ioff()\n",
        "plt.show()"
      ]
    },
    {
      "cell_type": "code",
      "source": [
        "#@title Part 1B - Texture synthesis\n",
        "content_layers_q1B = []\n",
        "\n",
        "# style_layers_q1B = ['conv_7','conv_8']\n",
        "style_layers_q1B = ['conv_1']\n",
        "# style_layers_q1B = ['conv_4']\n",
        "# style_layers_q1B = ['conv_8']\n",
        "\n",
        "# style_layers_q1B = ['conv_1','conv_4','conv_8']\n",
        "\n",
        "noise = torch.randn(input_img.shape)\n",
        "\n",
        "output = run_style_transfer(cnn, cnn_normalization_mean, cnn_normalization_std,\n",
        "                            content_img, style_img, noise,content_layers_q1B, style_layers_q1B)\n",
        "\n",
        "plt.figure()\n",
        "imshow(output, title='conv_1')\n",
        "# sphinx_gallery_thumbnail_number = 4\n",
        "plt.ioff()\n",
        "plt.show()"
      ],
      "metadata": {
        "id": "RWje__Cd3rVa"
      },
      "execution_count": null,
      "outputs": []
    },
    {
      "cell_type": "code",
      "source": [
        "#@title Part 1C - “MeanVar” style loss\n",
        "content_layers_q1C = []\n",
        "\n",
        "# style_layers_q1B = ['conv_7','conv_8']\n",
        "# style_layers_q1c = ['conv_8']\n",
        "# style_layers_q1c = ['conv_4']\n",
        "# style_layers_q1B = ['conv_8']\n",
        "\n",
        "style_layers_q1c = ['conv_1','conv_4','conv_8']\n",
        "# style_layers_q1c = ['conv_2','conv_8']\n",
        "noise = torch.randn(input_img.shape)\n",
        "\n",
        "output = run_style_transfer(cnn, cnn_normalization_mean, cnn_normalization_std,\n",
        "                            content_img, style_img, noise,content_layers_q1C, style_layers_q1c)\n",
        "\n",
        "plt.figure()\n",
        "imshow(output, title='conv_1 + conv_4 + conv_8')\n",
        "# sphinx_gallery_thumbnail_number = 4\n",
        "plt.ioff()\n",
        "plt.show()"
      ],
      "metadata": {
        "id": "dwstDw9w1j4K"
      },
      "execution_count": null,
      "outputs": []
    },
    {
      "cell_type": "code",
      "execution_count": null,
      "outputs": [],
      "source": [
        "# from torchvision.utils import save_image\n",
        "\n",
        "# img1 = output[0]\n",
        "# save_image(img1, 'data\\img1.jpg')\n",
        "# print('done')"
      ],
      "metadata": {
        "id": "onLA7_TzZP3R"
      }
    },
    {
      "cell_type": "code",
      "source": [
        "from PIL import Image\n",
        "import torch\n",
        "from transformers import CLIPTextModel, CLIPTokenizer\n",
        "from diffusers import AutoencoderKL, UNet2DConditionModel, PNDMScheduler\n",
        "from diffusers import UniPCMultistepScheduler\n",
        "\n",
        "vae = AutoencoderKL.from_pretrained(\"CompVis/stable-diffusion-v1-4\", subfolder=\"vae\")\n",
        "tokenizer = CLIPTokenizer.from_pretrained(\"CompVis/stable-diffusion-v1-4\", subfolder=\"tokenizer\")\n",
        "text_encoder = CLIPTextModel.from_pretrained(\"CompVis/stable-diffusion-v1-4\", subfolder=\"text_encoder\")\n",
        "unet = UNet2DConditionModel.from_pretrained(\"CompVis/stable-diffusion-v1-4\", subfolder=\"unet\")\n",
        "\n",
        "scheduler = UniPCMultistepScheduler.from_pretrained(\"CompVis/stable-diffusion-v1-4\", subfolder=\"scheduler\")\n",
        "\n",
        "torch_device = \"cuda\"\n",
        "vae.to(torch_device)\n",
        "text_encoder.to(torch_device)\n",
        "unet.to(torch_device)\n",
        "\n",
        "prompt = [\"a photograph of an astronaut riding a horse\"]\n",
        "height = 512  # default height of Stable Diffusion\n",
        "width = 512  # default width of Stable Diffusion\n",
        "# num_inference_steps = 25  # Number of denoising steps\n",
        "guidance_scale = 7.5  # Scale for classifier-free guidance\n",
        "generator = torch.cuda.manual_seed(10)  # Seed generator to create the inital latent noise\n",
        "batch_size = len(prompt)\n",
        "\n",
        "text_input = tokenizer(\n",
        "    prompt, padding=\"max_length\", max_length=tokenizer.model_max_length, truncation=True, return_tensors=\"pt\"\n",
        ")\n",
        "\n",
        "with torch.no_grad():\n",
        "    text_embeddings = text_encoder(text_input.input_ids.to(torch_device))[0]\n",
        "\n",
        "max_length = text_input.input_ids.shape[-1]\n",
        "uncond_input = tokenizer([\"\"] * batch_size, padding=\"max_length\", max_length=max_length, return_tensors=\"pt\")\n",
        "uncond_embeddings = text_encoder(uncond_input.input_ids.to(torch_device))[0]\n",
        "\n",
        "text_embeddings = torch.cat([uncond_embeddings, text_embeddings])\n"
      ],
      "metadata": {
        "id": "Z5kJJOAjhUDU",
        "pycharm": {
          "is_executing": true
        }
      },
      "execution_count": null,
      "outputs": []
    },
    {
      "cell_type": "code",
      "source": [
        "def plot_image(image):\n",
        "    image = (image / 2 + 0.5).clamp(0, 1)\n",
        "    image = image.detach().cpu().permute(0, 2, 3, 1).numpy()\n",
        "    images = (image * 255).round().astype(\"uint8\")\n",
        "    pil_images = [Image.fromarray(image) for image in images]\n",
        "    plt.imshow(pil_images[0])\n",
        "    plt.show(block=True)"
      ],
      "metadata": {
        "id": "cVSq1tglkFfF"
      },
      "execution_count": null,
      "outputs": []
    },
    {
      "cell_type": "code",
      "source": [
        "def calc_style_loss(cnn, normalization_mean, normalization_std,\n",
        "                       content_img, style_img, input_img, content_layers,style_layers,num_steps=300,\n",
        "                       style_weight=1000000, content_weight=1):\n",
        "\n",
        "    \"\"\"Run the style transfer.\"\"\"\n",
        "    print('Building the style transfer model..')\n",
        "    model, style_losses, content_losses = get_style_model_and_losses(cnn,\n",
        "        normalization_mean, normalization_std, style_img, content_img, content_layers,\n",
        "                               style_layers)\n",
        "    # We want to optimize the input and not the model parameters so we\n",
        "    # update all the requires_grad fields accordingly\n",
        "    input_img.requires_grad_(True)\n",
        "    # We also put the model in evaluation mode, so that specific layers\n",
        "    # such as dropout or batch normalization layers behave correctly.\n",
        "    model.eval()\n",
        "    model.requires_grad_(False)\n",
        "\n",
        "    # optimizer = get_input_optimizer(input_img)\n",
        "\n",
        "    print('Optimizing..')\n",
        "    run = [0]\n",
        "    # ans = input_img.clone().detach()\n",
        "\n",
        "    while run[0] < 1:\n",
        "        def closure():\n",
        "\n",
        "            # correct the values of updated input image\n",
        "            with torch.no_grad():\n",
        "                input_img.clamp_(0, 1)\n",
        "\n",
        "            # optimizer.zero_grad()\n",
        "\n",
        "            model(input_img)\n",
        "            style_score = 0\n",
        "            content_score = 0\n",
        "\n",
        "            for sl in style_losses:\n",
        "                style_score += sl.loss\n",
        "            for cl in content_losses:\n",
        "                content_score += cl.loss\n",
        "\n",
        "            style_score *= style_weight\n",
        "            content_score *= content_weight\n",
        "\n",
        "            loss = style_score + content_score\n",
        "            # print(loss.item())\n",
        "            loss.backward()\n",
        "\n",
        "            run[0] += 1\n",
        "            return\n",
        "            # if run[0] % 50 == 0:\n",
        "            #     print(\"run {}:\".format(run))\n",
        "            #     print('Style Loss : {:4f} Content Loss: {:4f}'.format(\n",
        "            #         style_score, content_score))\n",
        "            #     print()\n",
        "\n",
        "            # return style_score + content_score\n",
        "        # optimizer.step(closure)\n",
        "        closure()\n",
        "    #     if run[0] % 40 == 0:\n",
        "    #         ans = torch.cat((ans,input_img),dim=3)\n",
        "    #         print(run[0])\n",
        "\n",
        "    # vutils.save_image(ans, 'images_proccess.png')\n",
        "\n",
        "    # # a last correction...\n",
        "    # with torch.no_grad():\n",
        "    #     input_img.clamp_(0, 1)\n",
        "    # return input_img"
      ],
      "metadata": {
        "id": "gdLrUq3ZiCvr"
      },
      "execution_count": null,
      "outputs": []
    },
    {
      "cell_type": "code",
      "source": [
        "latents = torch.randn(\n",
        "    (batch_size, unet.in_channels, height // 8, width // 8),\n",
        "    generator=generator,\n",
        ")\n",
        "latents = latents.to(torch_device)\n",
        "# noise = latents.clone().detach()\n"
      ],
      "metadata": {
        "colab": {
          "base_uri": "https://localhost:8080/"
        },
        "id": "az-alpijWLG0",
        "outputId": "44d94af7-ef98-4582-dd5f-dce65f1357c3"
      },
      "execution_count": null,
      "outputs": [
        {
          "output_type": "stream",
          "name": "stderr",
          "text": [
            "<ipython-input-121-e4f29af386e0>:2: FutureWarning: Accessing config attribute `in_channels` directly via 'UNet2DConditionModel' object attribute is deprecated. Please access 'in_channels' over 'UNet2DConditionModel's config object instead, e.g. 'unet.config.in_channels'.\n",
            "  (batch_size, unet.in_channels, height // 8, width // 8),\n"
          ]
        }
      ]
    },
    {
      "cell_type": "code",
      "source": [
        "from tqdm.auto import tqdm\n",
        "num_inference_steps = 100\n",
        "scheduler.set_timesteps(num_inference_steps)\n",
        "\n",
        "content_layers_q2 = []\n",
        "# style_layers_q2 = ['conv_1','conv_2','conv_3','conv_4','conv_5','conv_6','conv_7','conv_8','conv_9','conv_10','conv_11','conv_12','conv_13','conv_14']\n",
        "# style_layers_q2 = ['conv_1','conv_2','conv_3','conv_4','conv_5', 'conv_6','conv_7','conv_8','conv_9','conv_10','pool_1','pool_2']\n",
        "style_layers_q2 = ['conv_1','conv_2','conv_3','conv_4','conv_5', 'conv_6','conv_7','conv_8','conv_9','conv_10']\n",
        "\n",
        "# latents = noise.clone()\n",
        "latents = latents * scheduler.init_noise_sigma\n",
        "vae.eval()\n",
        "i = 0\n",
        "for t in tqdm(scheduler.timesteps):\n",
        "    # expand the latents if we are doing classifier-free guidance to avoid doing two forward passes.\n",
        "    latent_model_input = torch.cat([latents] * 2)\n",
        "\n",
        "    latent_model_input = scheduler.scale_model_input(latent_model_input, timestep=t)\n",
        "\n",
        "    # predict the noise residual\n",
        "    with torch.no_grad():\n",
        "        noise_pred = unet(latent_model_input, t, encoder_hidden_states=text_embeddings).sample\n",
        "\n",
        "    # perform guidance\n",
        "    noise_pred_uncond, noise_pred_text = noise_pred.chunk(2)\n",
        "    noise_pred = noise_pred_uncond + guidance_scale * (noise_pred_text - noise_pred_uncond)\n",
        "\n",
        "    # clone and detach noise_pred\n",
        "    noise_pred_copy = torch.tensor(noise_pred.clone().detach(),requires_grad=True)\n",
        "\n",
        "    # calc X0 - clear image in latent space\n",
        "    x0 = scheduler.convert_model_output(noise_pred_copy,t, latents)\n",
        "    # optimizer = get_input_optimizer(x0) #TODO maybe use Adam?\n",
        "\n",
        "    # constract image from latent space\n",
        "    x0 = 1 / 0.18215 * x0\n",
        "    # with torch.no_grad():\n",
        "    x0image = (vae.decode(x0).sample / 2) + 0.5\n",
        "\n",
        "    # calc gradients of X0image compare to style_image\n",
        "    calc_style_loss(cnn, cnn_normalization_mean, cnn_normalization_std,\n",
        "                       content_img, style_img, x0image, content_layers_q2,style_layers_q2,num_steps=300,\n",
        "                       style_weight=1000000, content_weight=1)\n",
        "\n",
        "    s = 1 - torch.exp(0.005*(t-1000))\n",
        "    # if i % 10 == 0:\n",
        "    #     print(\"t \" +str(t))\n",
        "    #     print(\"s \" + str(s))\n",
        "    #     plot_image(x0image)\n",
        "\n",
        "    # compute the previous noisy sample x_t -> x_t-1\n",
        "    # print(scheduler.sigma_t[t])\n",
        "    # print(noise_pred_copy.grad)\n",
        "\n",
        "    noise_pred_copy_grad = noise_pred_copy.grad\n",
        "    noise_pred_copy_grad /= noise_pred_copy_grad.abs().mean()\n",
        "\n",
        "    latents = scheduler.step(noise_pred -s * scheduler.sigma_t[t] *  noise_pred_copy_grad, t, latents).prev_sample\n",
        "    # -s * scheduler.sigma_t(t) * noise_pred.grad()\n",
        "    i += 1\n",
        "# plot_image(latents)\n"
      ],
      "metadata": {
        "id": "M2KBSNjVh5KT"
      },
      "execution_count": null,
      "outputs": []
    },
    {
      "cell_type": "code",
      "source": [
        "# scale and decode the image latents with vae\n",
        "temp = 1 / 0.18215 * latents\n",
        "with torch.no_grad():\n",
        "    image = vae.decode(temp).sample\n",
        "image = (image / 2 + 0.5).clamp(0, 1)\n",
        "image = image.detach().cpu().permute(0, 2, 3, 1).numpy()\n",
        "images = (image * 255).round().astype(\"uint8\")\n",
        "pil_images = [Image.fromarray(image) for image in images]\n",
        "pil_images[0]"
      ],
      "metadata": {
        "id": "-z0PtVLNh6P1"
      },
      "execution_count": null,
      "outputs": []
    }
  ],
  "metadata": {
    "kernelspec": {
      "display_name": "Python 3",
      "name": "python3"
    },
    "language_info": {
      "codemirror_mode": {
        "name": "ipython",
        "version": 3
      },
      "file_extension": ".py",
      "mimetype": "text/x-python",
      "name": "python",
      "nbconvert_exporter": "python",
      "pygments_lexer": "ipython3",
      "version": "3.10.10"
    },
    "colab": {
      "provenance": [],
      "gpuType": "T4"
    },
    "accelerator": "GPU"
  },
  "nbformat": 4,
  "nbformat_minor": 0
}